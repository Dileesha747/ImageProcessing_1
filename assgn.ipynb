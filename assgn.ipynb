{
 "metadata": {
  "language_info": {
   "codemirror_mode": {
    "name": "ipython",
    "version": 3
   },
   "file_extension": ".py",
   "mimetype": "text/x-python",
   "name": "python",
   "nbconvert_exporter": "python",
   "pygments_lexer": "ipython3",
   "version": "3.7.4"
  },
  "orig_nbformat": 2,
  "kernelspec": {
   "name": "python3",
   "display_name": "Python 3.7.4 64-bit",
   "metadata": {
    "interpreter": {
     "hash": "4ad428a3f1bcaa28b5e31f3dd64a26fa7709f7bd2e7bd1665959247aaf2d7d8b"
    }
   }
  }
 },
 "nbformat": 4,
 "nbformat_minor": 2,
 "cells": [
  {
   "cell_type": "code",
   "execution_count": 9,
   "metadata": {},
   "outputs": [],
   "source": [
    "import numpy as np\n",
    "import tensorflow as tf\n",
    "import matplotlib.pyplot as plt \n",
    "from tensorflow import keras"
   ]
  },
  {
   "cell_type": "code",
   "execution_count": 13,
   "metadata": {},
   "outputs": [
    {
     "output_type": "stream",
     "name": "stdout",
     "text": [
      "Downloading data from https://www.cs.toronto.edu/~kriz/cifar-10-python.tar.gz\n",
      "170500096/170498071 [==============================] - 465s 3us/step\n",
      "x_train: (50000, 32, 32, 3)\n"
     ]
    }
   ],
   "source": [
    "(x_train, y_train), (x_test, y_test) = keras.datasets.cifar10.load_data()\n",
    "print('x_train:', x_train.shape)\n"
   ]
  },
  {
   "cell_type": "code",
   "execution_count": 15,
   "metadata": {},
   "outputs": [],
   "source": [
    "K = len(np.unique(y_train)) # Classes\n",
    "Ntr = x_train.shape[0]\n",
    "Nte = x_test.shape[0]\n",
    "Din = 3072 # CIFAR10\n",
    "# Din = 784 # MINIST\n",
    "\n",
    "# Normalize pixel values\n",
    "x_train, x_test = x_train / 255.0, x_test / 255.0\n",
    "mean_image = np.mean(x_train, axis=0)\n",
    "x_train = x_train - mean_image\n",
    "x_test = x_test - mean_image\n",
    "\n",
    "y_train = tf.keras.utils.to_categorical(y_train, num_classes=K)\n",
    "y_test = tf.keras.utils.to_categorical(y_test, num_classes=K)\n",
    "x_train = np.reshape(x_train,(Ntr,Din))\n",
    "x_test = np.reshape(x_test,(Nte,Din))\n",
    "x_train = x_train.astype('float32')\n",
    "x_test = x_test.astype('float32')\n",
    "\n"
   ]
  },
  {
   "cell_type": "code",
   "execution_count": 16,
   "metadata": {},
   "outputs": [
    {
     "output_type": "stream",
     "name": "stdout",
     "text": [
      "w1: (3072, 10)\nb1: (10,)\n"
     ]
    }
   ],
   "source": [
    "std=1e-5\n",
    "w1 = std*np.random.randn(Din, K)\n",
    "b1 = np.zeros(K)\n",
    "print(\"w1:\", w1.shape)\n",
    "print(\"b1:\", b1.shape)\n",
    "batch_size = Ntr\n",
    "iterations =300\n",
    "lr =1.5e-2\n",
    "lr_decay=0.999\n",
    "reg =5e-6\n",
    "loss_history = []\n",
    "train_acc_history = []\n",
    "val_acc_history = []\n",
    "seed = 0\n",
    "rng = np.random.default_rng(seed=seed)\n"
   ]
  },
  {
   "cell_type": "code",
   "execution_count": 25,
   "metadata": {},
   "outputs": [
    {
     "output_type": "stream",
     "name": "stdout",
     "text": [
      "iteration 0 : loss 1.000006\n",
      "iteration 5 : loss 0.903812\n",
      "iteration 10 : loss 0.873287\n",
      "iteration 15 : loss 0.853347\n",
      "iteration 20 : loss 0.839073\n",
      "iteration 25 : loss 0.828538\n",
      "iteration 30 : loss 0.820631\n",
      "iteration 35 : loss 0.814618\n",
      "iteration 40 : loss 0.809989\n",
      "iteration 45 : loss 0.806380\n",
      "iteration 50 : loss 0.803529\n",
      "iteration 55 : loss 0.801246\n",
      "iteration 60 : loss 0.799390\n",
      "iteration 65 : loss 0.797859\n",
      "iteration 70 : loss 0.796577\n",
      "iteration 75 : loss 0.795487\n",
      "iteration 80 : loss 0.794548\n",
      "iteration 85 : loss 0.793727\n",
      "iteration 90 : loss 0.793000\n",
      "iteration 95 : loss 0.792350\n",
      "iteration 100 : loss 0.791762\n",
      "iteration 105 : loss 0.791225\n",
      "iteration 110 : loss 0.790731\n",
      "iteration 115 : loss 0.790274\n",
      "iteration 120 : loss 0.789847\n",
      "iteration 125 : loss 0.789448\n",
      "iteration 130 : loss 0.789073\n",
      "iteration 135 : loss 0.788718\n",
      "iteration 140 : loss 0.788383\n",
      "iteration 145 : loss 0.788064\n",
      "iteration 150 : loss 0.787760\n",
      "iteration 155 : loss 0.787470\n",
      "iteration 160 : loss 0.787193\n",
      "iteration 165 : loss 0.786927\n",
      "iteration 170 : loss 0.786673\n",
      "iteration 175 : loss 0.786428\n",
      "iteration 180 : loss 0.786193\n",
      "iteration 185 : loss 0.785966\n",
      "iteration 190 : loss 0.785748\n",
      "iteration 195 : loss 0.785537\n",
      "iteration 200 : loss 0.785334\n",
      "iteration 205 : loss 0.785137\n",
      "iteration 210 : loss 0.784947\n",
      "iteration 215 : loss 0.784763\n",
      "iteration 220 : loss 0.784584\n",
      "iteration 225 : loss 0.784411\n",
      "iteration 230 : loss 0.784243\n",
      "iteration 235 : loss 0.784080\n",
      "iteration 240 : loss 0.783922\n",
      "iteration 245 : loss 0.783768\n",
      "iteration 250 : loss 0.783618\n",
      "iteration 255 : loss 0.783473\n",
      "iteration 260 : loss 0.783331\n",
      "iteration 265 : loss 0.783193\n",
      "iteration 270 : loss 0.783058\n",
      "iteration 275 : loss 0.782927\n",
      "iteration 280 : loss 0.782799\n",
      "iteration 285 : loss 0.782674\n",
      "iteration 290 : loss 0.782552\n",
      "iteration 295 : loss 0.782433\n"
     ]
    }
   ],
   "source": [
    "for t in range(iterations):\n",
    "    indices = np.arange(Ntr)\n",
    "    rng.shuffle(indices)\n",
    "    x=x_train[indices]\n",
    "    y=y_train[indices]\n",
    "\n",
    "    y_p=x.dot(w1)+b1\n",
    "    loss=(1./batch_size)*np.square(y_p-y).sum()+reg*(np.sum(w1*w1))\n",
    "    loss_history.append(loss)\n",
    "    if t%5==0:\n",
    "        print('iteration %d : loss %f' % (t,loss))\n",
    "\n",
    "    dy_y_p=(1./batch_size)*2.0*(y_p-y)\n",
    "    dy_w1=x.T.dot(dy_y_p)+reg*w1\n",
    "    dy_b1=dy_y_p.sum(axis=0)\n",
    "\n",
    "    w1 -=lr*dy_w1\n",
    "    b1 -=lr*dy_b1\n",
    "    lr *=lr_decay\n",
    "\n",
    "\n",
    "# Forward pass\n",
    "# Backward pass\n",
    "# Printing accuracies and displaying w as images\n"
   ]
  }
 ]
}